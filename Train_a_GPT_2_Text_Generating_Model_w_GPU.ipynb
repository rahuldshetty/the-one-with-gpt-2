{
  "nbformat": 4,
  "nbformat_minor": 0,
  "metadata": {
    "colab": {
      "name": "Train a GPT-2 Text-Generating Model w/ GPU",
      "provenance": [],
      "collapsed_sections": [],
      "toc_visible": true
    },
    "kernelspec": {
      "name": "python3",
      "display_name": "Python 3"
    },
    "accelerator": "GPU"
  },
  "cells": [
    {
      "cell_type": "markdown",
      "metadata": {
        "id": "H7LoMj4GA4n_",
        "colab_type": "text"
      },
      "source": [
        "#  Train a GPT-2 Text-Generating Model w/ GPU For Free \n",
        "\n",
        "by [Max Woolf](http://minimaxir.com)\n",
        "\n",
        "*Last updated: November 10th, 2019*\n",
        "\n",
        "Retrain an advanced text generating neural network on any text dataset **for free on a GPU using Collaboratory** using `gpt-2-simple`!\n",
        "\n",
        "For more about `gpt-2-simple`, you can visit [this GitHub repository](https://github.com/minimaxir/gpt-2-simple). You can also read my [blog post](https://minimaxir.com/2019/09/howto-gpt2/) for more information how to use this notebook!\n",
        "\n",
        "\n",
        "To get started:\n",
        "\n",
        "1. Copy this notebook to your Google Drive to keep it and save your changes. (File -> Save a Copy in Drive)\n",
        "2. Make sure you're running the notebook in Google Chrome.\n",
        "3. Run the cells below:\n"
      ]
    },
    {
      "cell_type": "code",
      "metadata": {
        "id": "KBkpRgBCBS2_",
        "colab_type": "code",
        "colab": {
          "base_uri": "https://localhost:8080/",
          "height": 199
        },
        "outputId": "5ff941b2-b383-4239-c9c3-192940affcc6"
      },
      "source": [
        "%tensorflow_version 1.x\n",
        "!pip install -q gpt-2-simple\n",
        "import gpt_2_simple as gpt2\n",
        "from datetime import datetime\n",
        "from google.colab import files"
      ],
      "execution_count": 1,
      "outputs": [
        {
          "output_type": "stream",
          "text": [
            "TensorFlow 1.x selected.\n",
            "  Building wheel for gpt-2-simple (setup.py) ... \u001b[?25l\u001b[?25hdone\n",
            "WARNING:tensorflow:\n",
            "The TensorFlow contrib module will not be included in TensorFlow 2.0.\n",
            "For more information, please see:\n",
            "  * https://github.com/tensorflow/community/blob/master/rfcs/20180907-contrib-sunset.md\n",
            "  * https://github.com/tensorflow/addons\n",
            "  * https://github.com/tensorflow/io (for I/O related ops)\n",
            "If you depend on functionality not listed there, please file an issue.\n",
            "\n"
          ],
          "name": "stdout"
        }
      ]
    },
    {
      "cell_type": "markdown",
      "metadata": {
        "id": "Bj2IJLHP3KwE",
        "colab_type": "text"
      },
      "source": [
        "## GPU\n",
        "\n",
        "Colaboratory uses either a Nvidia T4 GPU or an Nvidia K80 GPU. The T4 is slightly faster than the old K80 for training GPT-2, and has more memory allowing you to train the larger GPT-2 models and generate more text.\n",
        "\n",
        "You can verify which GPU is active by running the cell below."
      ]
    },
    {
      "cell_type": "code",
      "metadata": {
        "id": "sUmTooTW3osf",
        "colab_type": "code",
        "colab": {
          "base_uri": "https://localhost:8080/",
          "height": 311
        },
        "outputId": "8a98e8b7-56c3-4fa5-a09f-d81dd9782695"
      },
      "source": [
        "!nvidia-smi"
      ],
      "execution_count": null,
      "outputs": [
        {
          "output_type": "stream",
          "text": [
            "Wed Aug 28 17:30:18 2019       \n",
            "+-----------------------------------------------------------------------------+\n",
            "| NVIDIA-SMI 430.40       Driver Version: 418.67       CUDA Version: 10.1     |\n",
            "|-------------------------------+----------------------+----------------------+\n",
            "| GPU  Name        Persistence-M| Bus-Id        Disp.A | Volatile Uncorr. ECC |\n",
            "| Fan  Temp  Perf  Pwr:Usage/Cap|         Memory-Usage | GPU-Util  Compute M. |\n",
            "|===============================+======================+======================|\n",
            "|   0  Tesla T4            Off  | 00000000:00:04.0 Off |                    0 |\n",
            "| N/A   51C    P8    10W /  70W |      0MiB / 15079MiB |      0%      Default |\n",
            "+-------------------------------+----------------------+----------------------+\n",
            "                                                                               \n",
            "+-----------------------------------------------------------------------------+\n",
            "| Processes:                                                       GPU Memory |\n",
            "|  GPU       PID   Type   Process name                             Usage      |\n",
            "|=============================================================================|\n",
            "|  No running processes found                                                 |\n",
            "+-----------------------------------------------------------------------------+\n"
          ],
          "name": "stdout"
        }
      ]
    },
    {
      "cell_type": "markdown",
      "metadata": {
        "id": "0wXB05bPDYxS",
        "colab_type": "text"
      },
      "source": [
        "## Downloading GPT-2\n",
        "\n",
        "If you're retraining a model on new text, you need to download the GPT-2 model first. \n",
        "\n",
        "There are three released sizes of GPT-2:\n",
        "\n",
        "* `124M` (default): the \"small\" model, 500MB on disk.\n",
        "* `355M`: the \"medium\" model, 1.5GB on disk.\n",
        "* `774M`: the \"large\" model, cannot currently be finetuned with Colaboratory but can be used to generate text from the pretrained model (see later in Notebook)\n",
        "* `1558M`: the \"extra large\", true model. Will not work if a K80 GPU is attached to the notebook. (like `774M`, it cannot be finetuned).\n",
        "\n",
        "Larger models have more knowledge, but take longer to finetune and longer to generate text. You can specify which base model to use by changing `model_name` in the cells below.\n",
        "\n",
        "The next cell downloads it from Google Cloud Storage and saves it in the Colaboratory VM at `/models/<model_name>`.\n",
        "\n",
        "This model isn't permanently saved in the Colaboratory VM; you'll have to redownload it if you want to retrain it at a later time."
      ]
    },
    {
      "cell_type": "code",
      "metadata": {
        "id": "P8wSlgXoDPCR",
        "colab_type": "code",
        "colab": {
          "base_uri": "https://localhost:8080/",
          "height": 144
        },
        "outputId": "7d32c2dc-06f1-489f-fa1c-c87f7726bb84"
      },
      "source": [
        "gpt2.download_gpt2(model_name=\"124M\")"
      ],
      "execution_count": 2,
      "outputs": [
        {
          "output_type": "stream",
          "text": [
            "Fetching checkpoint: 1.05Mit [00:00, 368Mit/s]                                                      \n",
            "Fetching encoder.json: 1.05Mit [00:00, 67.5Mit/s]                                                   \n",
            "Fetching hparams.json: 1.05Mit [00:00, 243Mit/s]                                                    \n",
            "Fetching model.ckpt.data-00000-of-00001: 498Mit [00:05, 84.0Mit/s]\n",
            "Fetching model.ckpt.index: 1.05Mit [00:00, 249Mit/s]                                                \n",
            "Fetching model.ckpt.meta: 1.05Mit [00:00, 119Mit/s]                                                 \n",
            "Fetching vocab.bpe: 1.05Mit [00:00, 112Mit/s]                                                       \n"
          ],
          "name": "stderr"
        }
      ]
    },
    {
      "cell_type": "markdown",
      "metadata": {
        "id": "N8KXuKWzQSsN",
        "colab_type": "text"
      },
      "source": [
        "## Mounting Google Drive\n",
        "\n",
        "The best way to get input text to-be-trained into the Colaboratory VM, and to get the trained model *out* of Colaboratory, is to route it through Google Drive *first*.\n",
        "\n",
        "Running this cell (which will only work in Colaboratory) will mount your personal Google Drive in the VM, which later cells can use to get data in/out. (it will ask for an auth code; that auth is not saved anywhere)"
      ]
    },
    {
      "cell_type": "code",
      "metadata": {
        "id": "puq4iC6vUAHc",
        "colab_type": "code",
        "colab": {}
      },
      "source": [
        "gpt2.mount_gdrive()"
      ],
      "execution_count": null,
      "outputs": []
    },
    {
      "cell_type": "markdown",
      "metadata": {
        "id": "BT__brhBCvJu",
        "colab_type": "text"
      },
      "source": [
        "## Uploading a Text File to be Trained to Colaboratory\n",
        "\n",
        "In the Colaboratory Notebook sidebar on the left of the screen, select *Files*. From there you can upload files:\n",
        "\n",
        "![alt text](https://i.imgur.com/TGcZT4h.png)\n",
        "\n",
        "Upload **any smaller text file**  (<10 MB) and update the file name in the cell below, then run the cell."
      ]
    },
    {
      "cell_type": "code",
      "metadata": {
        "id": "6OFnPCLADfll",
        "colab_type": "code",
        "colab": {}
      },
      "source": [
        "file_name = \"output.txt\""
      ],
      "execution_count": 4,
      "outputs": []
    },
    {
      "cell_type": "markdown",
      "metadata": {
        "id": "HeeSKtNWUedE",
        "colab_type": "text"
      },
      "source": [
        "If your text file is larger than 10MB, it is recommended to upload that file to Google Drive first, then copy that file from Google Drive to the Colaboratory VM."
      ]
    },
    {
      "cell_type": "code",
      "metadata": {
        "id": "-Z6okFD8VKtS",
        "colab_type": "code",
        "colab": {}
      },
      "source": [
        "gpt2.copy_file_from_gdrive(file_name)"
      ],
      "execution_count": null,
      "outputs": []
    },
    {
      "cell_type": "markdown",
      "metadata": {
        "id": "LdpZQXknFNY3",
        "colab_type": "text"
      },
      "source": [
        "## Finetune GPT-2\n",
        "\n",
        "The next cell will start the actual finetuning of GPT-2. It creates a persistent TensorFlow session which stores the training config, then runs the training for the specified number of `steps`. (to have the finetuning run indefinitely, set `steps = -1`)\n",
        "\n",
        "The model checkpoints will be saved in `/checkpoint/run1` by default. The checkpoints are saved every 500 steps (can be changed) and when the cell is stopped.\n",
        "\n",
        "The training might time out after 4ish hours; make sure you end training and save the results so you don't lose them!\n",
        "\n",
        "**IMPORTANT NOTE:** If you want to rerun this cell, **restart the VM first** (Runtime -> Restart Runtime). You will need to rerun imports but not recopy files.\n",
        "\n",
        "Other optional-but-helpful parameters for `gpt2.finetune`:\n",
        "\n",
        "\n",
        "*  **`restore_from`**: Set to `fresh` to start training from the base GPT-2, or set to `latest` to restart training from an existing checkpoint.\n",
        "* **`sample_every`**: Number of steps to print example output\n",
        "* **`print_every`**: Number of steps to print training progress.\n",
        "* **`learning_rate`**:  Learning rate for the training. (default `1e-4`, can lower to `1e-5` if you have <1MB input data)\n",
        "*  **`run_name`**: subfolder within `checkpoint` to save the model. This is useful if you want to work with multiple models (will also need to specify  `run_name` when loading the model)\n",
        "* **`overwrite`**: Set to `True` if you want to continue finetuning an existing model (w/ `restore_from='latest'`) without creating duplicate copies. "
      ]
    },
    {
      "cell_type": "code",
      "metadata": {
        "id": "aeXshJM-Cuaf",
        "colab_type": "code",
        "colab": {
          "base_uri": "https://localhost:8080/",
          "height": 1000
        },
        "outputId": "55280733-8428-444b-bd1e-486d9b9591db"
      },
      "source": [
        "sess = gpt2.start_tf_sess()\n",
        "\n",
        "gpt2.finetune(sess,\n",
        "              dataset=file_name,\n",
        "              model_name='124M',\n",
        "              steps=1000,\n",
        "              restore_from='fresh',\n",
        "              run_name='run1',\n",
        "              print_every=10,\n",
        "              sample_every=200,\n",
        "              save_every=500\n",
        "              )"
      ],
      "execution_count": 5,
      "outputs": [
        {
          "output_type": "stream",
          "text": [
            "WARNING:tensorflow:From /usr/local/lib/python3.6/dist-packages/gpt_2_simple/src/sample.py:17: where (from tensorflow.python.ops.array_ops) is deprecated and will be removed in a future version.\n",
            "Instructions for updating:\n",
            "Use tf.where in 2.0, which has the same broadcast rule as np.where\n",
            "Loading checkpoint models/124M/model.ckpt\n",
            "INFO:tensorflow:Restoring parameters from models/124M/model.ckpt\n"
          ],
          "name": "stdout"
        },
        {
          "output_type": "stream",
          "text": [
            "\r  0%|          | 0/1 [00:00<?, ?it/s]"
          ],
          "name": "stderr"
        },
        {
          "output_type": "stream",
          "text": [
            "Loading dataset...\n"
          ],
          "name": "stdout"
        },
        {
          "output_type": "stream",
          "text": [
            "100%|██████████| 1/1 [00:08<00:00,  8.67s/it]\n"
          ],
          "name": "stderr"
        },
        {
          "output_type": "stream",
          "text": [
            "dataset has 1624742 tokens\n",
            "Training...\n",
            "[10 | 51.56] loss=2.87 avg=2.87\n",
            "[20 | 95.06] loss=2.83 avg=2.85\n",
            "[30 | 138.55] loss=2.76 avg=2.82\n",
            "[40 | 182.19] loss=2.65 avg=2.78\n",
            "[50 | 225.67] loss=2.70 avg=2.76\n",
            "[60 | 269.11] loss=2.64 avg=2.74\n",
            "[70 | 312.55] loss=2.73 avg=2.74\n",
            "[80 | 355.93] loss=2.60 avg=2.72\n",
            "[90 | 399.80] loss=2.60 avg=2.71\n",
            "[100 | 443.31] loss=2.55 avg=2.69\n",
            "[110 | 486.98] loss=2.55 avg=2.68\n",
            "[120 | 530.15] loss=2.42 avg=2.65\n",
            "[130 | 573.56] loss=2.60 avg=2.65\n",
            "[140 | 617.24] loss=2.57 avg=2.64\n",
            "[150 | 660.67] loss=2.59 avg=2.64\n",
            "[160 | 704.22] loss=2.40 avg=2.62\n",
            "[170 | 747.47] loss=2.62 avg=2.62\n",
            "[180 | 791.00] loss=2.52 avg=2.62\n",
            "[190 | 834.35] loss=2.35 avg=2.60\n",
            "[200 | 878.13] loss=2.66 avg=2.61\n",
            "======== SAMPLE 1 ========\n",
            " to you.\n",
            "Monica: (entering) Oh my God! \n",
            "Rachel: (in disbelief) I did not think you could do that. \n",
            "Ross: No. Chandler, Monica is my girlfriend! I am going over and fetch you her.\n",
            "Monica: I'm gonna check her out. I'm gonna say hi.\n",
            "(the door is closed).\n",
            "Rachel: Thank you. \n",
            "Ross: Thank you. (Ross moves into Rachel's room.\n",
            "Rachel: Oh my God! Did you like that? Monica is going over to fetch me my bag with you\n",
            "knock on the door. She is going over to fetch me your bag! I don't want her\n",
            "knocking me! And I don't want her to put her clothes in my bag.\n",
            "Monica: Well, what do you want me to do? \n",
            "Rachel: Um, well, I don't know. Are you planning on staying with me or are there\n",
            "t\n",
            "Ross: No-no, I'm staying with your mom. \n",
            "(the doorbell rings as Ross is about to leave)\n",
            "Rachel: Oh! Rachel, Rachel and I were having a conversation.\n",
            "Ross: Yes, yes.\n",
            "Rachel: Oh my God! You didn't take me to the bathroom?!\n",
            "Monica: You and Rachel just moved in together?\n",
            "Rachel: Oh, ok. Y'know, you know I would get tired of having to wait\n",
            "and think about it all, you know. \n",
            "Rachel: Okay, okay, look, you know, I don't want you to think about\n",
            "it when I already know. You know, I don't want you to think about it all, okay? You\n",
            "know, you just, you know, you just get to see the big picture.\n",
            "Monica: Oh my God!\n",
            "Rachel: That's so sweet!\n",
            "Ross: Yes you do.\n",
            "Rachel: Yeah so does your mom.\n",
            "Monica: No!\n",
            "Ross: So why don't you wait for her?\n",
            "Rachel: No.\n",
            "Ross: No if we just go in together and not tell Rachel that my\n",
            "mom passed away.\n",
            "Rachel: (in disbelief) Yeah.\n",
            "Monica: We can do that.\n",
            "Rachel: Well then, why don't you just tell her that your\n",
            "mom died?\n",
            "Ross: Not just tell her that you care and, y'know, I'm the father.\n",
            "Monica: Why dont you know? You could die if you don't tell her\n",
            "that my mom passed away. (to Ross) Why don't you tell her my mom passed\n",
            "and she didn't know? Why don't you tell her that she died and we could live\n",
            "around and have a big house and we could raise a family together and, y'know, you\n",
            "ll get to have that big, big house and a baby and everything. You know, and, and, and, y'know what?\n",
            "\n",
            "Ross: Yeah!\n",
            "Rachel: I don't think she can do that.\n",
            "Ross: You know what? It would just take me a couple of episodes.\n",
            "Rachel: Yes.\n",
            "Ross: So theres nothing else you can do about it?\n",
            "Rachel: Yeah, well, y'know, I don't really think about\n",
            "everything the moment you get the chance.\n",
            "Monica: Why don't you get to have the baby and raise a kid and\n",
            "live with a dad?\n",
            "Rachel: Well, shes right.\n",
            "Ross: Why shouldn't you have a baby and raise a baby and raise a kid and\n",
            "raised a kid and raise a kid and raise a kid and raise a kid and raise a kid and\n",
            "Raise a kid and raise a kid. Now you dont have to be all to yourself like\n",
            "she did with Phoebe and Chandler.\n",
            "Rachel: You know I really dont think about everything.\n",
            "Ross: I don't think about everything.\n",
            "Rachel: Well, you know what, I just, I think about every last one and I dont think\n",
            "about her\n",
            "Monica: (turning towards Rachel) Look! (turning in the other direction to Ross) Hi Ross,\n",
            "Ross is right! Rachel is right! This happened to Phoebe and Chandler.\n",
            "Rachel: Why would you do that to me?!\n",
            "Ross: Look how good these things are!\n",
            "Rachel: Oh, look, this will not only make me feel better, but it will make me feel so\n",
            "happy.\n",
            "Ross: All right? Thats right. That is great, but now isnt it time\n",
            "to go to work? Because youll be sitting on the other side of the TV with me and there\n",
            "is no one. No one. I got to go to the bathroom and my mom passed away. So\n",
            "I go to the bathroom and I look over there and I see Monica, Monica is in the bathroom\n",
            "and\n",
            "\n",
            "[210 | 940.49] loss=2.34 avg=2.59\n",
            "[220 | 983.72] loss=2.28 avg=2.58\n",
            "[230 | 1027.38] loss=2.38 avg=2.57\n",
            "[240 | 1070.64] loss=2.45 avg=2.56\n",
            "[250 | 1113.89] loss=2.41 avg=2.55\n",
            "[260 | 1157.16] loss=2.34 avg=2.54\n",
            "[270 | 1200.34] loss=2.40 avg=2.54\n",
            "[280 | 1243.56] loss=2.11 avg=2.52\n",
            "[290 | 1286.97] loss=2.47 avg=2.52\n",
            "[300 | 1330.60] loss=2.09 avg=2.50\n",
            "[310 | 1374.22] loss=2.20 avg=2.49\n",
            "[320 | 1417.71] loss=2.25 avg=2.48\n",
            "[330 | 1460.97] loss=2.48 avg=2.48\n",
            "[340 | 1504.09] loss=2.40 avg=2.48\n",
            "[350 | 1547.51] loss=2.47 avg=2.48\n",
            "[360 | 1590.84] loss=2.15 avg=2.47\n",
            "[370 | 1634.26] loss=2.57 avg=2.47\n",
            "[380 | 1677.86] loss=2.23 avg=2.46\n",
            "[390 | 1721.61] loss=2.24 avg=2.46\n",
            "[400 | 1764.92] loss=2.10 avg=2.45\n",
            "======== SAMPLE 1 ========\n",
            " She really has no idea this?\n",
            "Joey: She got it from the milk?\n",
            "Monica: Yeah, yeah. She just\n",
            "Rachel: Yeah, you know, how do you just keep staring at her?\n",
            "Monica: No, look, I-I-I was watching you when you were shot. And I\n",
            "I think this is your decision. (pause) I mean, we can be friends again.\n",
            "Rachel: Joey, you can't marry me.\n",
            "Joey: No! Of course! I was gonna tell you. That thing happens\n",
            "everywhere. I mean, just look how good we are. How much you mean\n",
            "to me.\n",
            "Rachel: Well, I think you just blew the ball out of your court today.\n",
            "Joey: Yeah, I mean, it was unbelievable.\n",
            "Rachel: Well, you know what? I'm not gonna lie to you, and\n",
            "Joey: Well, maybe I'm different.\n",
            "Rachel: Oh my God, Joey. What are you doing?\n",
            "Joey: I'm telling you something.\n",
            "Rachel: What? What, what is it?\n",
            "Joey: What? Oh. What are we gonna do?\n",
            "Rachel: Wait, wait, wait, wait, wait, wait.\n",
            "Joey: What is it?\n",
            "Rachel: Is she on drugs?\n",
            "Joey: Yes! She's still working out.\n",
            "Rachel: Yeah!\n",
            "Joey: Look, she's doing great! She's going through this with me, so\n",
            "Rachel: Yeah, I know. I know. See? Well, I'm not really\n",
            "involved. I mean, okay, she's not really around. But I know what you're thinking...\n",
            "Joey: What's your problem?\n",
            "Rachel: Well, there's her.\n",
            "Joey: What is it?\n",
            "Rachel: Well, you know, I mean, she's a horrible person. But... I\n",
            "think that she's a great person. I mean, she's just, she's so smart, and she's so\n",
            "intelligent. She's such a, she's smart and she's beautiful. And, she's also a\n",
            "good wife and she's smart and smart...\n",
            "Joey: Oh. You know what, I think it's a little weird, because\n",
            "Rachel: I'm trying to be an analytical guy! I mean, you have this\n",
            "intellectual thing!\n",
            "Joey: Look, I do have this in common with all the great people I know!\n",
            "Rachel: Well, you know what else I do have in common with all the\n",
            "great women, you know...\n",
            "Joey: So, is it because of me?\n",
            "Rachel: Oh... well...\n",
            "Joey: Well, there are so many reasons, ok? But like, like... you know, I'd had\n",
            "a lot of women come in and say, \"Hey, you're gorgeous, why don't we just\n",
            "take the plunge and get engaged? Who's hot?\"\n",
            "Rachel: Oh, ok. Look, we're making a very important decision, and it is this\n",
            "change! Well, this is good for everybody.\n",
            "Joey: Well, so, we're just gonna have to face it, okay? Just stop\n",
            "beating it out!\n",
            "Rachel: No. (pause) Oh, I'm-I'm gonna do it.\n",
            "Joey: Yeah, why don't we just do it?\n",
            "Rachel: Well, what if it doesn't work?\n",
            "Joey: Well, there's no other choice. There's no other\n",
            "option!\n",
            "Rachel: You know what? We got a choice, we still don't have one...\n",
            "Joey: I won't listen to you.\n",
            "Rachel: I know! And I know what it's like to have a bad\n",
            "date! You know, you wait like two days without going out!\n",
            "Joey: We can't have sex, we're stuck with her! \n",
            "Rachel: You know, she's a beautiful woman. And I'm not, I'm looking forward\n",
            "to having another date! (They stop at the window and Joey breaks into a fit\n",
            "laugh.)\n",
            "Joey: What?\n",
            "Rachel: He's like a baby! And if-if he doesn't want to go out with you and\n",
            "me, and I have a boyfriend I can't go out with!\n",
            "Joey: Don't you know what Joey?\n",
            "Rachel: (interrupting him) We've got to go on a date, ok? (Joey stops dead\n",
            "short) \"What do you think? Whose?\" \"Who do you want to go out with?\"\n",
            "Joey: Well, I'm in this together with Emma.\n",
            "Rachel: Yes! (She goes in to the bedroom and shuts the door.)\n",
            "Joey: And we can go on a date.\n",
            "Rachel: Yeah.\n",
            "Joey: Right\n",
            "\n",
            "[410 | 1825.87] loss=2.14 avg=2.44\n",
            "[420 | 1869.39] loss=2.30 avg=2.43\n",
            "[430 | 1912.61] loss=2.22 avg=2.43\n",
            "[440 | 1956.38] loss=2.60 avg=2.43\n",
            "[450 | 1999.62] loss=2.36 avg=2.43\n",
            "[460 | 2042.29] loss=2.23 avg=2.42\n",
            "[470 | 2085.20] loss=2.12 avg=2.42\n",
            "[480 | 2128.10] loss=2.36 avg=2.42\n",
            "[490 | 2171.00] loss=1.98 avg=2.40\n",
            "[500 | 2213.91] loss=2.27 avg=2.40\n",
            "Saving checkpoint/run1/model-500\n",
            "[510 | 2259.96] loss=1.95 avg=2.39\n",
            "[520 | 2302.90] loss=1.46 avg=2.37\n",
            "[530 | 2345.75] loss=2.38 avg=2.37\n",
            "[540 | 2388.63] loss=1.97 avg=2.36\n",
            "[550 | 2431.55] loss=1.71 avg=2.34\n",
            "[560 | 2474.44] loss=1.88 avg=2.33\n",
            "[570 | 2517.29] loss=1.99 avg=2.32\n",
            "[580 | 2560.19] loss=2.31 avg=2.32\n",
            "[590 | 2603.05] loss=2.34 avg=2.32\n",
            "[600 | 2645.91] loss=2.00 avg=2.32\n",
            "======== SAMPLE 1 ========\n",
            "livis\n",
            "Phoebe: I did not!\n",
            "Chandler: No-no, no, you did!\n",
            "Phoebe: I have not seen you since I got married!\n",
            "Monica: Chandler! You are an incredible person! I do not even know how you survived\n",
            "even a half-moon landing!\n",
            "Chandler: Come on, it was very tough, you are all grown-ups now.\n",
            "Phoebe: Chandler, I was supposed to be with you last.\n",
            "Monica: What?!\n",
            "Chandler: I have nothing to be with.\n",
            "Monica: You lied, you lied!\n",
            "Chandler: I lied with Ross. Now the only reason I am here is because I have something\n",
            "to tell you.\n",
            "Monica: Phoebe, you have to forgive me.\n",
            "Chandler: I do not forgive people. Forgive me, I was wrong\n",
            "Monica: I was wrong!\n",
            "Phoebe: I know. I know. And, you cannot forgive the people for what you did\n",
            "to Ross.\n",
            "Monica: Oh, Phoebe, you guys, I really think you must learn how to forgive people for what\n",
            "you did. You do not like Ross. And you think I am a stupid man, just to be with you, you\n",
            "go to the gym and, and, and, and, and you have to apologize to yourself.\n",
            "Chandler: No, I think I understand.\n",
            "Monica: You go to the gym. You eat like the rest of the people in your life,\n",
            "because you think the one thing you did that would make you happy is you went on a diet.\n",
            "Phoebe: What?\n",
            "Monica: The Atkins diet.\n",
            "Phoebe: Oh my God!!!\n",
            "Chandler: Okay, but I-I do not think you really care if youre overweight, I\n",
            "do not think that you really care what Im wearing. And in fact I think that if I were\n",
            "fat Im pretty much your size, and Im fine, and your mommy size, and I dont care.\n",
            "Joey: (entering) Hey!\n",
            "Monica: Hey, y'know what? I think its the best time for you to\n",
            "go sit down and be totally honest.\n",
            "Joey: I have to tell you (walks away).\n",
            "Phoebe: Okay. (Chandlers enters, yelling) Joey! (Chandlers turns to the\n",
            "camera) You guys, its time to go to the gym! Come on, its not about\n",
            "plant and animal suffering. Its not about just one guy having a bad day and a\n",
            "honest saying a guy gets another bad day! Its all about love.\n",
            "Chandler: Im so happy you two are together! (looks at him for a moment)\n",
            "Phoebe: You still here?\n",
            "Rachel: Y'know what? I-I justI am so excited about this. It is\n",
            "kinda like the perfect storm again. Youre not just just, youre\n",
            "gonna be with a guy for the rest of your life that believes that just because your hairs\n",
            "seems really short that makes you a man! (Rachel looks at him confused). I guess we should\n",
            "just stay here for a while.\n",
            "Joey: Yeah, I understand.\n",
            "Rachel: Good, good, really good. Come on.\n",
            "Chandler: Okay, get going.\n",
            "Phoebe: Okay.\n",
            "Rachel: Okay.\n",
            "(Phoebe enters, shocked.)\n",
            "Phoebe: Oh my God. That was my sister doing the Atkins diet.\n",
            "Chandler: Thats right. But not Atkins. (starts to lecture her in more detail)\n",
            "Yeah? Well, I dont think thats how you look at it. Its not\n",
            "the Atkins you see. Its totally the Atkins you have. (to Rachel) What are you?\n",
            "Rachel: Nothing, Im just a good student. I really have the perfect physique\n",
            "Im\n",
            "Phoebe: You really? You would just be doing a diet and then your sister will like\n",
            "you.\n",
            "Rachel: Really?!\n",
            "Phoebe: Sure! Im still mad at him! (sees her and starts to leave) Oh,\n",
            "um, I know where you live. He didnt come to our apartment and, well, he\n",
            "didnt give enough food and he didnt have a refrigerator in he\n",
            "car. Im sorry, Im really not gonna see him around anymore. Oh, by the way,\n",
            "Im getting a tattoo of a Mexican boy on my arm (starts to leave).\n",
            "Rachel: What?!\n",
            "Phoebe: Oh come look what its doing!\n",
            "[Scene: The hallway in Ross's apartment, Joey enters reading a National Geographic on\n",
            "the couch.]\n",
            "Joey: (to the TV) I love it\n",
            "\n",
            "[610 | 2705.90] loss=2.00 avg=2.31\n",
            "[620 | 2748.78] loss=2.15 avg=2.31\n",
            "[630 | 2791.66] loss=2.35 avg=2.31\n",
            "[640 | 2834.55] loss=2.06 avg=2.30\n",
            "[650 | 2877.42] loss=2.47 avg=2.31\n",
            "[660 | 2920.28] loss=2.16 avg=2.30\n",
            "[670 | 2963.14] loss=1.92 avg=2.29\n",
            "[680 | 3006.00] loss=2.10 avg=2.29\n",
            "[690 | 3048.82] loss=2.39 avg=2.29\n",
            "[700 | 3091.66] loss=2.16 avg=2.29\n",
            "[710 | 3134.46] loss=2.18 avg=2.29\n",
            "[720 | 3177.25] loss=1.85 avg=2.28\n",
            "[730 | 3220.08] loss=1.98 avg=2.27\n",
            "[740 | 3262.92] loss=2.24 avg=2.27\n",
            "[750 | 3305.78] loss=1.77 avg=2.26\n",
            "[760 | 3348.66] loss=2.18 avg=2.26\n",
            "[770 | 3391.52] loss=1.84 avg=2.25\n",
            "[780 | 3434.34] loss=1.51 avg=2.24\n",
            "[790 | 3477.18] loss=2.24 avg=2.24\n",
            "[800 | 3520.06] loss=2.16 avg=2.24\n",
            "======== SAMPLE 1 ========\n",
            "\n",
            "\n",
            "Ross: Wow, uh-Oh, you think we have to live with the fact that my wife is so much smarter than I am?\n",
            "Chandler: Yeah, I do.\n",
            "[Cut to Phoebe, Phoebe's maid, helping Phoebe and Ross in getting in a cab.]\n",
            "Phoebe: So I've gone down to work all day, to talk with a cab driver.\n",
            "Ross: The cab?!\n",
            "Phoebe: It's late, and I'm in the back and somebody just dropped me off in a cab!\n",
            "Ross: Yes, that's what it is!\n",
            "Phoebe: (on phone) It's okay! I'm sorry I shouldn't have called. I'm just sorry I didn't use the wrong person. (Ross looks over to where another cab is parked)\n",
            "Ross: Oh, my God. I'm so sorry.\n",
            "Phoebe: (on phone) Yeah, okay, I'm so sorry about, and I'm so so so sorry about the way I acted in front of people. (Ross looks under the TV)\n",
            "(Rachel walks in) \n",
            "Rachel: (on phone) Yeah, she voted for Sanders... \n",
            "Ross: ...and the one thing I wanted to make sure I didn't say was that I do believe that \"women are better qualified to handle responsibility\".\n",
            "Rachel: (on phone) Yeah, she just finished talking to that woman, so, um, well listen, she's always welcome to come on for more than just the uh... talk. Look, um, I also think that women are much more capable of thought and expression ... than men are.\n",
            "Rachel: (on phone) Ok, bye-bye. (to Ross) Rachel, listen, can you give me an example of someone who's been in a relationship with someone who's been in a relationship with someone else for a period of time, usually several hours? Someone who's never had sex? Somebody who's never had a heart attack? Someone whose only regret, in fact, is that... they thought they knew what was in that pill...?\n",
            "Ross: What?\n",
            "Rachel: Someone once said that having sex is like going to sleep with your brain.\n",
            "Ross: That's not true... having sex is like going to... having sex.\n",
            "Rachel: (on phone) Well, listen, uh-Uh, can I ask you a question? When you and I first hooked up, did you and someone else ever... did you and someone else ever plan on spending the rest of your life together?\n",
            "Ross: (on phone) No, uh-Uh... when you and I first hooked up, did you and somebody else ever... ever plan on spending the rest of your life together? (pause) No, uh-uh... when you and I first spend our entire lives apart, did you and somebody else ever plan on spending the rest of our lives together?\n",
            "Rachel: (on phone) I... I don't have a choice, I have to ask you this question. (pause) If you don't mind... if you and I both think about it... what do you do if you don't live together? What do you do if you don't have a baby together?\n",
            "Ross: (while looking at Rachel angrily) You're gonna do whatever it takes to make that happen?\n",
            "Rachel: Yeah. Hey, since when do I live with my sister? Since when do I live with my sister?\n",
            "Ross: (at Rachel's words: \"every two weeks\" in Italian) \"No.\"\n",
            "[Scene: Ross's bedroom, he's listening to a tape, listening while Ross looks on in horror.]\n",
            "TV Guide #12 - Classroom: Ross, do you have anything... you have anything to show for \"this weekend? You know, this weekend? The first weekend of my tenure as an actor and I've been unable to find a relationship to put my foot down for the last six months. Last weekend... I went back to my apartment, there was no Rachel anywhere... \n",
            "Monica: (in a Scottish accent) \"You just made it a rule you could never follow! I mean... 'You have to be at least a little... at the event'...\"\n",
            "TV Guide #12 - Classroom: There he is, still listening to the tape... the next day... the next day... \n",
            "Monica: Oh my God, oh my God, oh my God, oh my God, oh my God... oh God, oh my God... oh God... oh God... oh God... oh God...\n",
            "(Ross's friends and family come out of the bathroom)\n",
            "Ross: No one here has anything to show for the last six months.\n",
            "Monica: Well, it's been a while...\n",
            "Ross: Oh...\n",
            "Monica: Oh.\n",
            "Ross: ...and, you know, it... it's the beginning of spring,\n",
            "\n",
            "[810 | 3580.27] loss=2.05 avg=2.24\n",
            "[820 | 3623.15] loss=1.78 avg=2.23\n",
            "[830 | 3666.08] loss=2.05 avg=2.22\n",
            "[840 | 3708.95] loss=2.19 avg=2.22\n",
            "[850 | 3751.82] loss=1.79 avg=2.22\n",
            "[860 | 3794.68] loss=1.87 avg=2.21\n",
            "[870 | 3837.62] loss=1.68 avg=2.20\n",
            "[880 | 3880.55] loss=2.18 avg=2.20\n",
            "[890 | 3923.45] loss=1.80 avg=2.19\n",
            "[900 | 3966.33] loss=2.36 avg=2.20\n",
            "[910 | 4009.25] loss=1.01 avg=2.18\n",
            "[920 | 4052.14] loss=2.12 avg=2.18\n",
            "[930 | 4094.98] loss=1.87 avg=2.17\n",
            "[940 | 4137.83] loss=1.89 avg=2.17\n",
            "[950 | 4180.72] loss=1.84 avg=2.16\n",
            "[960 | 4223.62] loss=1.62 avg=2.15\n",
            "[970 | 4266.49] loss=1.83 avg=2.15\n",
            "[980 | 4309.36] loss=2.11 avg=2.15\n",
            "[990 | 4352.21] loss=1.71 avg=2.14\n",
            "[1000 | 4395.12] loss=2.09 avg=2.14\n",
            "Saving checkpoint/run1/model-1000\n",
            "WARNING:tensorflow:From /tensorflow-1.15.2/python3.6/tensorflow_core/python/training/saver.py:963: remove_checkpoint (from tensorflow.python.training.checkpoint_management) is deprecated and will be removed in a future version.\n",
            "Instructions for updating:\n",
            "Use standard file APIs to delete files with this prefix.\n"
          ],
          "name": "stdout"
        }
      ]
    },
    {
      "cell_type": "code",
      "metadata": {
        "id": "KLGUDEo-rV_A",
        "colab_type": "code",
        "colab": {
          "base_uri": "https://localhost:8080/",
          "height": 128
        },
        "outputId": "64c43763-e7f7-4b35-db99-eb5ab419776c"
      },
      "source": [
        "from google.colab import drive\n",
        "drive.mount('/content/drive')"
      ],
      "execution_count": 10,
      "outputs": [
        {
          "output_type": "stream",
          "text": [
            "Go to this URL in a browser: https://accounts.google.com/o/oauth2/auth?client_id=947318989803-6bn6qk8qdgf4n4g3pfee6491hc0brc4i.apps.googleusercontent.com&redirect_uri=urn%3aietf%3awg%3aoauth%3a2.0%3aoob&response_type=code&scope=email%20https%3a%2f%2fwww.googleapis.com%2fauth%2fdocs.test%20https%3a%2f%2fwww.googleapis.com%2fauth%2fdrive%20https%3a%2f%2fwww.googleapis.com%2fauth%2fdrive.photos.readonly%20https%3a%2f%2fwww.googleapis.com%2fauth%2fpeopleapi.readonly\n",
            "\n",
            "Enter your authorization code:\n",
            "··········\n",
            "Mounted at /content/drive\n"
          ],
          "name": "stdout"
        }
      ]
    },
    {
      "cell_type": "markdown",
      "metadata": {
        "id": "IXSuTNERaw6K",
        "colab_type": "text"
      },
      "source": [
        "After the model is trained, you can copy the checkpoint folder to your own Google Drive.\n",
        "\n",
        "If you want to download it to your personal computer, it's strongly recommended you copy it there first, then download from Google Drive. The checkpoint folder is copied as a `.rar` compressed file; you can download it and uncompress it locally."
      ]
    },
    {
      "cell_type": "code",
      "metadata": {
        "id": "VHdTL8NDbAh3",
        "colab_type": "code",
        "colab": {}
      },
      "source": [
        "gpt2.copy_checkpoint_to_gdrive(run_name='run1')"
      ],
      "execution_count": 11,
      "outputs": []
    },
    {
      "cell_type": "markdown",
      "metadata": {
        "id": "qQJgV_b4bmzd",
        "colab_type": "text"
      },
      "source": [
        "You're done! Feel free to go to the **Generate Text From The Trained Model** section to generate text based on your retrained model."
      ]
    },
    {
      "cell_type": "markdown",
      "metadata": {
        "id": "pel-uBULXO2L",
        "colab_type": "text"
      },
      "source": [
        "## Load a Trained Model Checkpoint\n",
        "\n",
        "Running the next cell will copy the `.rar` checkpoint file from your Google Drive into the Colaboratory VM."
      ]
    },
    {
      "cell_type": "code",
      "metadata": {
        "id": "DCcx5u7sbPTD",
        "colab_type": "code",
        "colab": {}
      },
      "source": [
        "gpt2.copy_checkpoint_from_gdrive(run_name='run1')"
      ],
      "execution_count": null,
      "outputs": []
    },
    {
      "cell_type": "code",
      "metadata": {
        "id": "s4mLz8lR49Lg",
        "colab_type": "code",
        "colab": {}
      },
      "source": [
        ""
      ],
      "execution_count": null,
      "outputs": []
    },
    {
      "cell_type": "markdown",
      "metadata": {
        "id": "RTa6zf3e_9gV",
        "colab_type": "text"
      },
      "source": [
        "The next cell will allow you to load the retrained model checkpoint + metadata necessary to generate text.\n",
        "\n",
        "**IMPORTANT NOTE:** If you want to rerun this cell, **restart the VM first** (Runtime -> Restart Runtime). You will need to rerun imports but not recopy files."
      ]
    },
    {
      "cell_type": "code",
      "metadata": {
        "id": "-fxL77nvAMAX",
        "colab_type": "code",
        "colab": {}
      },
      "source": [
        "sess = gpt2.start_tf_sess()\n",
        "gpt2.load_gpt2(sess, run_name='run1')"
      ],
      "execution_count": null,
      "outputs": []
    },
    {
      "cell_type": "markdown",
      "metadata": {
        "id": "ClJwpF_ACONp",
        "colab_type": "text"
      },
      "source": [
        "## Generate Text From The Trained Model\n",
        "\n",
        "After you've trained the model or loaded a retrained model from checkpoint, you can now generate text. `generate` generates a single text from the loaded model."
      ]
    },
    {
      "cell_type": "code",
      "metadata": {
        "id": "4RNY6RBI9LmL",
        "colab_type": "code",
        "colab": {
          "base_uri": "https://localhost:8080/",
          "height": 1000
        },
        "outputId": "401aab90-9c97-4d7e-abe3-2e80f4e45abc"
      },
      "source": [
        "gpt2.generate(sess, run_name='run1')"
      ],
      "execution_count": 6,
      "outputs": [
        {
          "output_type": "stream",
          "text": [
            "Phoebe: I have a friend who works here.\n",
            "Ross: Really?\n",
            "Phoebe: She's on the board of directors of the Charity Bearers.\n",
            "Ross: Wow!\n",
            "Phoebe: Oh, she's really nice and uh, pretty much built like an F-5 fighter jet.\n",
            "Monica: I can't believe you're here!\n",
            "Phoebe: Does anybody else feel better?\n",
            "Monica: Yeah, we're getting Monica another job.\n",
            "Ross: Wow, a second job?\n",
            "Phoebe: Yeah, I just so happen to be finishing up my second book, so who knows what will happen with me.\n",
            "Monica: Oh, you're my best friend.\n",
            "Ross: Hey, you know what? You don't have to worry about her breaking up with you. You just have to have a plan. And I like to think of it as a three-way street. I just don't want to kill her.\n",
            "Monica: Why not?\n",
            "Ross: I don't know.\n",
            "Monica: Well, maybe she just wants to be with me for a while.\n",
            "Ross: Oh, she's not.\n",
            "Monica: Maybe she just wants to be with somebody else, I don't know.\n",
            "Ross: Really?\n",
            "Monica: Yeah, she wants to touch some people, maybe a little bit.\n",
            "Ross: Do you wanna touch some people?\n",
            "Monica: No, she just wants to be with somebody else.\n",
            "Ross: If you touch her, you're touching her.\n",
            "Monica: Maybe that's it?\n",
            "Ross: Maybe it is.\n",
            "Phoebe: Wait a minute, wait a minute, what if I touch her? The F-5 fighter jet?\n",
            "Monica: Well, you would think.\n",
            "Ross: I'm sorry. I'm sorry. (He starts to leave.)\n",
            "Monica: Wait a minute, wait a minute, Ross, he's leaving.\n",
            "Ross: He's leaving?\n",
            "Monica: He's leaving with one of my books!\n",
            "Ross: What can I say? I really don't want to do that.\n",
            "Monica: Okay, well, I'm gonna find you a place.\n",
            "Ross: Okay, sure.\n",
            "Monica: No, that would be, you know, the uh, way I would put my hand on the knee.\n",
            "Ross: (smiling) You're kidding right?\n",
            "Monica: Yeah, yeah, yeah, I am.\n",
            "Ross: Okay.\n",
            "Monica: I think I'm gonna go to the library.\n",
            "(Ross leaves and closes the door behind him.)\n",
            "[Scene: The Holiday Inn, Chandler is there and Monica enters.]\n",
            "Monica: Hey!\n",
            "Chandler: Hey!\n",
            "Monica: I'm so sorry.\n",
            "Chandler: I'm so sorry.\n",
            "Monica: I know. But at least I got to meet my future husband.\n",
            "Chandler: Oh yeah? Well, what do you want to do?\n",
            "Monica: Nothing!\n",
            "Chandler: Well, what is it?\n",
            "Monica: I just don't want to talk too much about it.\n",
            "Chandler: Well, you don't really have to talk, do you?\n",
            "Monica: I'm sorry.\n",
            "Chandler: I said, \"Monica, I want to talk.\"\n",
            "Monica: I don't want to talk.\n",
            "Chandler: I don't want to look at you.\n",
            "Monica: I don't want to look at you.\n",
            "Chandler: Oh, come on, I-I don't think I'm afraid of looking at women.\n",
            "Monica: Oh, come on, you don't get that from all the books I read.\n",
            "Chandler: Oh yeah, I read The Way I Look Lasting Days, How I Met Your Mother, and The Way You Look In The Morning.\n",
            "Monica: Oh my God! I read those!\n",
            "Chandler: No, they're so going to hamper my love life.\n",
            "Monica: That's fine.\n",
            "Chandler: Yeah, they're just not in the cards.\n",
            "Monica: I'm gonna go talk to you about the library.\n",
            "Chandler: Yeah.\n",
            "Monica: I'm just gonna take the money and I'm gonna call the bank.\n",
            "Chandler: Okay.\n",
            "Monica: Okay.\n",
            "(Monica leaves.)\n",
            "Chandler: Well, y'know what? I'm gonna go talk to you about the library, too.\n",
            "Monica: Okay.\n",
            "Chandler: Okay.\n",
            "Monica: Okay.\n",
            "Chandler: Okay.\n",
            "Monica: Okay.\n",
            "(They walk into the conference room.)\n",
            "Chandler: It's not that I don't think this is a great\n"
          ],
          "name": "stdout"
        }
      ]
    },
    {
      "cell_type": "markdown",
      "metadata": {
        "id": "oF4-PqF0Fl7R",
        "colab_type": "text"
      },
      "source": [
        "If you're creating an API based on your model and need to pass the generated text elsewhere, you can do `text = gpt2.generate(sess, return_as_list=True)[0]`\n",
        "\n",
        "You can also pass in a `prefix` to the generate function to force the text to start with a given character sequence and generate text from there (good if you add an indicator when the text starts).\n",
        "\n",
        "You can also generate multiple texts at a time by specifing `nsamples`. Unique to GPT-2, you can pass a `batch_size` to generate multiple samples in parallel, giving a massive speedup (in Colaboratory, set a maximum of 20 for `batch_size`).\n",
        "\n",
        "Other optional-but-helpful parameters for `gpt2.generate` and friends:\n",
        "\n",
        "*  **`length`**: Number of tokens to generate (default 1023, the maximum)\n",
        "* **`temperature`**: The higher the temperature, the crazier the text (default 0.7, recommended to keep between 0.7 and 1.0)\n",
        "* **`top_k`**: Limits the generated guesses to the top *k* guesses (default 0 which disables the behavior; if the generated output is super crazy, you may want to set `top_k=40`)\n",
        "* **`top_p`**: Nucleus sampling: limits the generated guesses to a cumulative probability. (gets good results on a dataset with `top_p=0.9`)\n",
        "* **`truncate`**: Truncates the input text until a given sequence, excluding that sequence (e.g. if `truncate='<|endoftext|>'`, the returned text will include everything before the first `<|endoftext|>`). It may be useful to combine this with a smaller `length` if the input texts are short.\n",
        "*  **`include_prefix`**: If using `truncate` and `include_prefix=False`, the specified `prefix` will not be included in the returned text."
      ]
    },
    {
      "cell_type": "code",
      "metadata": {
        "id": "8DKMc0fiej4N",
        "colab_type": "code",
        "colab": {
          "base_uri": "https://localhost:8080/",
          "height": 1000
        },
        "outputId": "2ba913d4-1c61-43c2-a431-f6d29e7d8391"
      },
      "source": [
        "gpt2.generate(sess,\n",
        "              length=250,\n",
        "              temperature=0.7,\n",
        "              prefix=\"ROSS: We were on break.\",\n",
        "              nsamples=5,\n",
        "              batch_size=5\n",
        "              )"
      ],
      "execution_count": 8,
      "outputs": [
        {
          "output_type": "stream",
          "text": [
            "ROSS: We were on break.\n",
            "RACHEL: Oh, I don't know what I'm talking about.\n",
            "ROSS: Oh.\n",
            "RACHEL: You know what I'm talking about?\n",
            "ROSS: Yeah, I think I know what we're talking about.\n",
            "RACHEL: Oh.\n",
            "ROSS: I'll give you my fifteenth point.\n",
            "RACHEL: Oh, look.\n",
            "ROSS: What?\n",
            "RACHEL: We're not having it.\n",
            "ROSS: What?\n",
            "RACHEL: We're not even having it, Ross.\n",
            "ROSS: Oh, go ahead, go ahead. \n",
            "RACHEL: Okay.\n",
            "ROSS: Okay, look, I think I'll go.\n",
            "RACHEL: Okay, I'll go.\n",
            "ROSS: Good, good.\n",
            "RACHEL: I'm going.\n",
            "ROSS: Well, look, I think you're pretty much done with this, let's just say we're not going to dinner tonight.\n",
            "RACHEL: OK. What? It's over.\n",
            "ROSS: All right, fine.\n",
            "RACHEL: All right. But, sure, I'm not going, OK\n",
            "====================\n",
            "ROSS: We were on break.\n",
            "\n",
            "RACHEL: We were just going to go out and get some dinner.\n",
            "\n",
            "ROSS: Okay.\n",
            "\n",
            "RACHEL: Yeah.\n",
            "\n",
            "ROSS: I am so glad you took the time to talk to me, 'cause that was really important to me.\n",
            "\n",
            "RACHEL: Your sweetie.\n",
            "\n",
            "ROSS: Yeah, I think maybe I can borrow your table.\n",
            "\n",
            "RACHEL: Yeah, I think I can borrow your table.\n",
            "\n",
            "ROSS: You can borrow a real, juicy steak.\n",
            "\n",
            "RACHEL: Yeah, I think I can borrow a real juicy steak.\n",
            "\n",
            "ROSS: Oh, OK.\n",
            "\n",
            "RACHEL: I can borrow the table.\n",
            "\n",
            "ROSS: OK, OK.\n",
            "\n",
            "RACHEL: OK.\n",
            "\n",
            "ROSS: OK, OK.\n",
            "\n",
            "RACHEL: OK.\n",
            "\n",
            "ROSS: OK.\n",
            "\n",
            "RACHEL: OK, OK.\n",
            "\n",
            "ROSS: OK, OK.\n",
            "\n",
            "RACHEL: OK, OK.\n",
            "\n",
            "ROSS: OK, OK.\n",
            "\n",
            "RACHEL: OK, OK.\n",
            "\n",
            "[Scene: Monica\n",
            "====================\n",
            "ROSS: We were on break.\n",
            "RACHEL: Yeah?\n",
            "ROSS: Yeah.\n",
            "RACHEL: What are you guys doing?\n",
            "ROSS: We were just wondering if uh, if you guys were watching?\n",
            "RACHEL: Yeah, yeah, no.\n",
            "ROSS: Look, you know, I know it's Saturday, it's Saturday, and I don't really wanna be doing Saturday. So, uh, what would you guys think of a Saturday?\n",
            "RACHEL: I don't know, you know, what would you guys think of a Saturday?\n",
            "ROSS: What would you guys think of a Saturday? I mean, I would be cheerleading, y'know I would be at the camp, y'know, I'd be out with my friends, I'd be in the neighborhood, I'd be at the zoo, I'd be at the zoo, y'know, I'd be at the zoo, I'd be there for a while, and then, you know, you'd stop, and I'd stop, I'd stop, and then, you would stop.\n",
            "RACHEL: I don't know.\n",
            "ROSS: What's the worst thing you've seen on Saturday\n",
            "====================\n",
            "ROSS: We were on break.\n",
            "RACHEL: Yeah, and I said, \"Hi, Rach, I'm speaking to Monica.\"\n",
            "ROSS: Oh, my God. I'm so, so sorry.\n",
            "CHANDLER: So sorry.\n",
            "PHOEBE: So sorry.\n",
            "RACHEL: All right, let's get some serious, we-we're-we're gonna go to the museum and\n",
            "get some champagne.\n",
            "(Joey walks in, and Monica does one of the many waffles.)\n",
            "MONICA: Hey, Joey, it's me. I just had the greatest day of my life.\n",
            "RACHEL: Oh, you didn't know it.\n",
            "MONICA: It was amazing. You have such a good heart and you have this cool\n",
            "thing, you know, you just relax and just enjoy yourself.\n",
            "JOEY: Hey, I thought you were a guy.\n",
            "MONICA: I knew it. I mean, I was there, I was so close.\n",
            "RACHEL: Oh my God, Monica, Chandler, Joey, Monica!!\n",
            "MONICA: It was amazing.\n",
            "RACHEL: I'm sorry, I'm just so sorry, I'm just so sorry\n",
            "====================\n",
            "ROSS: We were on break.\n",
            "RACHEL: Oh God.\n",
            "ROSS: Oh, come on. Come on, I, I'm sure you're going to be better off, but we have to let her stay, okay?\n",
            "RACHEL: And then we're going to have to let her go.\n",
            "ROSS: You're not going to let her go.\n",
            "RACHEL: I don't know. I mean, I know I can't let her go, but I'm not going to let her go.\n",
            "ROSS: Well, if you don't want to go, then you should.\n",
            "RACHEL: Oh, God.\n",
            "ROSS: God, thanks.\n",
            "RACHEL: I can't believe you're on break today.\n",
            "ROSS: Look, if you just don't want to go, then I don't even have the courage to go.\n",
            "RACHEL: OK, well, if you're gonna go, then I think you should go. OK, OK.\n",
            "ROSS: OK, I'll just, I'll go. OK, thank you.\n",
            "RACHEL: Alright, good-bye.\n",
            "ROSS: Bye.\n",
            "RACHEL: Bye.\n",
            "====================\n"
          ],
          "name": "stdout"
        }
      ]
    },
    {
      "cell_type": "markdown",
      "metadata": {
        "id": "zjjEN2Tafhl2",
        "colab_type": "text"
      },
      "source": [
        "For bulk generation, you can generate a large amount of text to a file and sort out the samples locally on your computer. The next cell will generate a generated text file with a unique timestamp.\n",
        "\n",
        "You can rerun the cells as many times as you want for even more generated texts!"
      ]
    },
    {
      "cell_type": "code",
      "metadata": {
        "id": "Fa6p6arifSL0",
        "colab_type": "code",
        "colab": {}
      },
      "source": [
        "gen_file = 'gpt2_gentext_{:%Y%m%d_%H%M%S}.txt'.format(datetime.utcnow())\n",
        "\n",
        "gpt2.generate_to_file(sess,\n",
        "                      destination_path=gen_file,\n",
        "                      length=500,\n",
        "                      temperature=0.7,\n",
        "                      nsamples=100,\n",
        "                      batch_size=20\n",
        "                      )"
      ],
      "execution_count": 9,
      "outputs": []
    },
    {
      "cell_type": "code",
      "metadata": {
        "id": "0-LRex8lfv1g",
        "colab_type": "code",
        "colab": {}
      },
      "source": [
        "# may have to run twice to get file to download\n",
        "files.download(gen_file)"
      ],
      "execution_count": null,
      "outputs": []
    },
    {
      "cell_type": "markdown",
      "metadata": {
        "id": "wmTXWNUygS5E",
        "colab_type": "text"
      },
      "source": [
        "# LICENSE\n",
        "\n",
        "MIT License\n",
        "\n",
        "Copyright (c) 2019 Max Woolf\n",
        "\n",
        "Permission is hereby granted, free of charge, to any person obtaining a copy\n",
        "of this software and associated documentation files (the \"Software\"), to deal\n",
        "in the Software without restriction, including without limitation the rights\n",
        "to use, copy, modify, merge, publish, distribute, sublicense, and/or sell\n",
        "copies of the Software, and to permit persons to whom the Software is\n",
        "furnished to do so, subject to the following conditions:\n",
        "\n",
        "The above copyright notice and this permission notice shall be included in all\n",
        "copies or substantial portions of the Software.\n",
        "\n",
        "THE SOFTWARE IS PROVIDED \"AS IS\", WITHOUT WARRANTY OF ANY KIND, EXPRESS OR\n",
        "IMPLIED, INCLUDING BUT NOT LIMITED TO THE WARRANTIES OF MERCHANTABILITY,\n",
        "FITNESS FOR A PARTICULAR PURPOSE AND NONINFRINGEMENT. IN NO EVENT SHALL THE\n",
        "AUTHORS OR COPYRIGHT HOLDERS BE LIABLE FOR ANY CLAIM, DAMAGES OR OTHER\n",
        "LIABILITY, WHETHER IN AN ACTION OF CONTRACT, TORT OR OTHERWISE, ARISING FROM,\n",
        "OUT OF OR IN CONNECTION WITH THE SOFTWARE OR THE USE OR OTHER DEALINGS IN THE\n",
        "SOFTWARE."
      ]
    }
  ]
}